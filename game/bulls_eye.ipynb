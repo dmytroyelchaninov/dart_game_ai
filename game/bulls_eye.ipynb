{
 "cells": [
  {
   "cell_type": "code",
   "execution_count": 1,
   "metadata": {},
   "outputs": [],
   "source": [
    "import cv2 as cv\n",
    "import numpy as np"
   ]
  },
  {
   "cell_type": "code",
   "execution_count": 2,
   "metadata": {},
   "outputs": [],
   "source": [
    "def bulls_eye():\n",
    "    \"\"\"\n",
    "    Function description\n",
    "    \"\"\"\n",
    "    default_filename = 'sc.jpg'\n",
    "\n",
    "    # Load image\n",
    "    img_path = '../upload/sc.jpg'\n",
    "    img = cv.imread(img_path, cv.IMREAD_COLOR)\n",
    "\n",
    "    if img is None:\n",
    "        print(f'Error opening image!')\n",
    "        return -1\n",
    "    \n",
    "    # Convert image to HSV. \n",
    "    # HSV (hue, saturation, value) separates chromatic content from intensity\n",
    "    hsv_image = cv.cvtColor(img, cv.COLOR_BGR2HSV)\n",
    "\n",
    "    # Define the range of red color in HSV\n",
    "    lower_red1 = np.array([0, 70, 50])\n",
    "    upper_red1 = np.array([10, 255, 255])\n",
    "    lower_red2 = np.array([160, 70, 50])\n",
    "    upper_red2 = np.array([180, 255, 255]) \n",
    "\n",
    "    # Mask for red color\n",
    "    mask1 = cv.inRange(hsv_image, lower_red1, upper_red1)\n",
    "    mask2 = cv.inRange(hsv_image, lower_red2, upper_red2)\n",
    "\n",
    "    # Combine masks (bitwise_or sums pixels)\n",
    "    red_mask = cv.bitwise_or(mask1, mask2)\n",
    "\n",
    "    # Apply mask to original image\n",
    "    red_regions = cv.bitwise_and(img, img, mask=red_mask)\n",
    "\n",
    "    # Convert to grayscale\n",
    "    gray = cv.cvtColor(img, cv.COLOR_BGR2GRAY)\n",
    "    gray = cv.GaussianBlur(gray,(9,9),2) # alternative: medianBLur, it preserves edges better, while gaussian is more smooth\n",
    "\n",
    "    # Controlling distance between circles in midDist \n",
    "    rows = gray.shape[0]\n",
    "    print(f\"minDist={rows/8}\")\n",
    "\n",
    "    # Detects circles (coordinates)\n",
    "    circles = cv.HoughCircles(\n",
    "        gray,\n",
    "        cv.HOUGH_GRADIENT,\n",
    "        dp=1,\n",
    "        minDist=rows/4,\n",
    "        param1=100,\n",
    "        param2=50,\n",
    "        minRadius=10,\n",
    "        maxRadius=50\n",
    "    )\n",
    "\n",
    "    # Drawing circles\n",
    "    if circles is not None:\n",
    "        circles = np.uint16(np.around(circles))\n",
    "        for circle in circles[0,:]:\n",
    "            center = (circle[0], circle[1])\n",
    "            # Draw the circle center\n",
    "            cv.circle(img, center, 1, (255,255,255), 4)\n",
    "            # Draw the circle outline\n",
    "            radius = circle[2]\n",
    "            cv.circle(img, center, radius, (255,255,255), 4)\n",
    "\n",
    "    # Display image\n",
    "    cv.imshow('Circles', img)\n",
    "    cv.waitKey(0)\n",
    "    cv.destroyAllWindows()\n"
   ]
  },
  {
   "cell_type": "code",
   "execution_count": null,
   "metadata": {},
   "outputs": [],
   "source": [
    "img_path = '../upload/sc.jpg'"
   ]
  },
  {
   "cell_type": "code",
   "execution_count": 1,
   "metadata": {},
   "outputs": [],
   "source": [
    "# Main class receives picture, opens it\n",
    "class DartMain():\n",
    "    def __init__(self, img_path):\n",
    "        self._img_path = img_path\n",
    "    \n",
    "    \n",
    "\n",
    "    img = cv.imread(img_path, cv.IMREAD_COLOR)\n",
    "    def opener(self, img_path):\n",
    "        img = cv.imread\n"
   ]
  },
  {
   "cell_type": "code",
   "execution_count": null,
   "metadata": {},
   "outputs": [],
   "source": [
    "\n",
    "class DartCenter():\n",
    "    def __init__(self, img):\n",
    "        # I need to store image as attribute during testing, and I will delete it after, because\n",
    "        # storing image will take unnecesary memory (maybe not)\n",
    "        # self._img = img\n",
    "        self._x_center, self._y_center = bulls_eye(img)\n",
    "\n",
    "    # I will need an access to this coordinates later \n",
    "    # On the other hand, i can store coords as class attributes within DartMain and inherit them in child classes,\n",
    "    # but this will cause that any class instance will have same coords. I might need different instances of same class (logic same as in pandas .dtypes)\n",
    "    @property\n",
    "    def center(self):\n",
    "        return self._x_center, self._y_center\n",
    "\n",
    "    # Also, resetting might be useful\n",
    "    @center.setter\n",
    "    def center(self, center_coords):\n",
    "        self._x_center, self._y_center = center_coords\n",
    "\n",
    "    @center.deleter\n",
    "    def center(self):\n",
    "        del self._x_center, self._y_center\n",
    "\n",
    "    def bulls_eye(self, img):\n",
    "        center_coords = (0,0) # here will be the code that takes image and calculates bulls eye coordinates using cv possibly\n",
    "        return center_coords\n",
    "\n",
    "\n"
   ]
  },
  {
   "cell_type": "code",
   "execution_count": null,
   "metadata": {},
   "outputs": [],
   "source": [
    "\n",
    "class DartGrid(DartMain):\n",
    "    \"\"\"This class contains methods that create sector grid over the dart picture, \n",
    "    expected attribute - array that represents grid coordinates\"\"\"\n",
    "    def __init__(self, )"
   ]
  },
  {
   "cell_type": "code",
   "execution_count": null,
   "metadata": {},
   "outputs": [],
   "source": []
  },
  {
   "cell_type": "code",
   "execution_count": 5,
   "metadata": {},
   "outputs": [
    {
     "data": {
      "text/plain": [
       "'opencv_python'"
      ]
     },
     "execution_count": 5,
     "metadata": {},
     "output_type": "execute_result"
    }
   ],
   "source": [
    "'opencv_python==4.10.0, numpy==1.26.4'.split('==')[0].strip()"
   ]
  },
  {
   "cell_type": "code",
   "execution_count": 7,
   "metadata": {},
   "outputs": [
    {
     "data": {
      "text/plain": [
       "False"
      ]
     },
     "execution_count": 7,
     "metadata": {},
     "output_type": "execute_result"
    }
   ],
   "source": [
    "None == True"
   ]
  },
  {
   "cell_type": "code",
   "execution_count": null,
   "metadata": {},
   "outputs": [],
   "source": []
  },
  {
   "cell_type": "code",
   "execution_count": null,
   "metadata": {},
   "outputs": [],
   "source": []
  },
  {
   "cell_type": "code",
   "execution_count": null,
   "metadata": {},
   "outputs": [],
   "source": []
  },
  {
   "cell_type": "code",
   "execution_count": 22,
   "metadata": {},
   "outputs": [],
   "source": [
    "import pandas as pd\n",
    "df = pd.DataFrame({'a': [1,2,3], 'b': [4,5,6]})"
   ]
  },
  {
   "cell_type": "code",
   "execution_count": 23,
   "metadata": {},
   "outputs": [
    {
     "data": {
      "text/html": [
       "<div>\n",
       "<style scoped>\n",
       "    .dataframe tbody tr th:only-of-type {\n",
       "        vertical-align: middle;\n",
       "    }\n",
       "\n",
       "    .dataframe tbody tr th {\n",
       "        vertical-align: top;\n",
       "    }\n",
       "\n",
       "    .dataframe thead th {\n",
       "        text-align: right;\n",
       "    }\n",
       "</style>\n",
       "<table border=\"1\" class=\"dataframe\">\n",
       "  <thead>\n",
       "    <tr style=\"text-align: right;\">\n",
       "      <th></th>\n",
       "      <th>a</th>\n",
       "      <th>b</th>\n",
       "    </tr>\n",
       "  </thead>\n",
       "  <tbody>\n",
       "    <tr>\n",
       "      <th>0</th>\n",
       "      <td>True</td>\n",
       "      <td>False</td>\n",
       "    </tr>\n",
       "    <tr>\n",
       "      <th>1</th>\n",
       "      <td>False</td>\n",
       "      <td>False</td>\n",
       "    </tr>\n",
       "    <tr>\n",
       "      <th>2</th>\n",
       "      <td>False</td>\n",
       "      <td>False</td>\n",
       "    </tr>\n",
       "  </tbody>\n",
       "</table>\n",
       "</div>"
      ],
      "text/plain": [
       "       a      b\n",
       "0   True  False\n",
       "1  False  False\n",
       "2  False  False"
      ]
     },
     "execution_count": 23,
     "metadata": {},
     "output_type": "execute_result"
    }
   ],
   "source": [
    "df == True"
   ]
  },
  {
   "cell_type": "code",
   "execution_count": 24,
   "metadata": {},
   "outputs": [
    {
     "ename": "NameError",
     "evalue": "name 'df1' is not defined",
     "output_type": "error",
     "traceback": [
      "\u001b[0;31m---------------------------------------------------------------------------\u001b[0m",
      "\u001b[0;31mNameError\u001b[0m                                 Traceback (most recent call last)",
      "Cell \u001b[0;32mIn[24], line 1\u001b[0m\n\u001b[0;32m----> 1\u001b[0m \u001b[43mdf1\u001b[49m \u001b[38;5;241m==\u001b[39m \u001b[38;5;28;01mTrue\u001b[39;00m\n",
      "\u001b[0;31mNameError\u001b[0m: name 'df1' is not defined"
     ]
    }
   ],
   "source": [
    "df1 == True"
   ]
  },
  {
   "cell_type": "code",
   "execution_count": 25,
   "metadata": {},
   "outputs": [
    {
     "ename": "AttributeError",
     "evalue": "'NoneType' object has no attribute 'to_csv'",
     "output_type": "error",
     "traceback": [
      "\u001b[0;31m---------------------------------------------------------------------------\u001b[0m",
      "\u001b[0;31mAttributeError\u001b[0m                            Traceback (most recent call last)",
      "Cell \u001b[0;32mIn[25], line 2\u001b[0m\n\u001b[1;32m      1\u001b[0m df \u001b[38;5;241m=\u001b[39m \u001b[38;5;28;01mNone\u001b[39;00m\n\u001b[0;32m----> 2\u001b[0m \u001b[43mdf\u001b[49m\u001b[38;5;241;43m.\u001b[39;49m\u001b[43mto_csv\u001b[49m(\u001b[38;5;124m'\u001b[39m\u001b[38;5;124mtest.csv\u001b[39m\u001b[38;5;124m'\u001b[39m)\n",
      "\u001b[0;31mAttributeError\u001b[0m: 'NoneType' object has no attribute 'to_csv'"
     ]
    }
   ],
   "source": [
    "df = None\n",
    "df.to_csv('test.csv')"
   ]
  },
  {
   "cell_type": "code",
   "execution_count": null,
   "metadata": {},
   "outputs": [],
   "source": []
  }
 ],
 "metadata": {
  "kernelspec": {
   "display_name": "tensorflow",
   "language": "python",
   "name": "python3"
  },
  "language_info": {
   "codemirror_mode": {
    "name": "ipython",
    "version": 3
   },
   "file_extension": ".py",
   "mimetype": "text/x-python",
   "name": "python",
   "nbconvert_exporter": "python",
   "pygments_lexer": "ipython3",
   "version": "3.10.14"
  }
 },
 "nbformat": 4,
 "nbformat_minor": 2
}
